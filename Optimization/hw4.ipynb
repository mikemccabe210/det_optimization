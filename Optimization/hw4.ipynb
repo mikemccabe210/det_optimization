{
 "cells": [
  {
   "cell_type": "code",
   "execution_count": 1,
   "metadata": {
    "collapsed": true
   },
   "outputs": [],
   "source": [
    "import numpy as np\n",
    "import scipy.optimize as opt\n",
    "from __future__ import print_function"
   ]
  },
  {
   "cell_type": "markdown",
   "metadata": {},
   "source": [
    "a) $f(x_1, x_2, x_3) = |x^2_1 - 3x_3 + 4| + (x_2 -3)^2\\quad from\\ (0, 0, 0)$\n",
    "\n",
    "Here, we have a function that has two independent non-negative functions. As a result, our function is minimized at points where each of these sub-components is 0. x_2 has a clear minimum at 3. x_1 and x_3 will be minimized whenever $x_1^2/3 = x_3$. Since the function isn't differentiable at a point (and we haven't learned about sub-gradients in the class yet), we'll use Nelder-Mead to solve it. "
   ]
  },
  {
   "cell_type": "code",
   "execution_count": 2,
   "metadata": {},
   "outputs": [
    {
     "name": "stdout",
     "output_type": "stream",
     "text": [
      "Optimization terminated successfully.\n",
      "         Current function value: 0.000000\n",
      "         Iterations: 294\n",
      "         Function evaluations: 537\n",
      "Solution: [-0.45753475  3.          1.40311268] Score: 4.44410672415e-16\n"
     ]
    }
   ],
   "source": [
    "f = lambda x: np.abs(x[0]**2 - 3*x[2] + 4) + (x[1] -3)**2\n",
    "\n",
    "result = opt.minimize(f, [0, 0, 0], method = 'Nelder-Mead', tol = 1e-8,\n",
    "                      options = {'disp' : True})\n",
    "print('Solution:', result.x, 'Score:', f(result.x))"
   ]
  },
  {
   "cell_type": "markdown",
   "metadata": {},
   "source": [
    "b)  \n",
    "  $f(x) = (x-1)x(x+3) + x^4$  over the interval [−10, 10]  \n",
    "  $f(x) = (x^2 +2x -3)x + x^4$  \n",
    "  $f(x) = (x^2 +2x -3)x + x^4$  \n",
    "  $f(x) = x^4 + x^3 + 2x^2 - 3x$  \n",
    "  \n",
    "Since this is the only scalar function here, I'm going to take advantage of this opportunity to use one of the univariate derivative free methods (quadratic fit). "
   ]
  },
  {
   "cell_type": "code",
   "execution_count": 3,
   "metadata": {},
   "outputs": [
    {
     "name": "stdout",
     "output_type": "stream",
     "text": [
      "Solution 0.474417687731 Score: -0.815673103645\n"
     ]
    }
   ],
   "source": [
    "f = lambda x: x**4 + x**3 + 2*x**2 - 3*x\n",
    "\n",
    "result = opt.minimize_scalar(f, method = 'brent', bounds = (-10, 10))\n",
    "print('Solution', result.x, 'Score:', f(result.x))"
   ]
  },
  {
   "cell_type": "markdown",
   "metadata": {},
   "source": [
    "c)  \n",
    "$ f(x) = ||Ax - b|| $ where A = [[2 -3], [4 1]], b = [1 9], starting from (0, 0)\n",
    "\n",
    "Since the square operation and scalar multiplication operations are monotonic, the solution for our problem is equivalent to that of a standard least squares problem, so we'll use the least squares solver. "
   ]
  },
  {
   "cell_type": "code",
   "execution_count": 4,
   "metadata": {},
   "outputs": [
    {
     "name": "stdout",
     "output_type": "stream",
     "text": [
      "Solution: [ 2.  1.] Score 8.881784197e-16\n"
     ]
    }
   ],
   "source": [
    "A = np.array([[2, -3], [4, 1]])\n",
    "b = np.array([1, 9])\n",
    "f = lambda x: A.dot(x) - b\n",
    "\n",
    "result = opt.leastsq(f, np.array([0, 0]))\n",
    "print('Solution:', result[0], 'Score', np.sqrt((f(result[0]))**2).sum())"
   ]
  }
 ],
 "metadata": {
  "kernelspec": {
   "display_name": "Python 2",
   "language": "python",
   "name": "python2"
  },
  "language_info": {
   "codemirror_mode": {
    "name": "ipython",
    "version": 2
   },
   "file_extension": ".py",
   "mimetype": "text/x-python",
   "name": "python",
   "nbconvert_exporter": "python",
   "pygments_lexer": "ipython2",
   "version": "2.7.14"
  }
 },
 "nbformat": 4,
 "nbformat_minor": 2
}
