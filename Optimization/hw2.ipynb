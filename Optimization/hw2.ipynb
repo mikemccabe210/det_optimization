{
 "cells": [
  {
   "cell_type": "markdown",
   "metadata": {},
   "source": [
    "# Problem 1\n",
    "$\n",
    "a)\\ x_1 + x_2 +x_3 \\\\\n",
    "b)\\ 2^1 w_{2(1)} + 2^2 w_{2(2)} + 2^3 w_{2(3)}\\\\\n",
    "c)\\ x_{11} + x_{21} + x_{22}+x_{31} + x_{32} + x_{33}\\\\\n",
    "d)\\ 3x_1 + 3x_2 +3x_3 + y_{12} + y_{13} + y_{14}+ y_{22} + y_{23} + y_{24}+ y_{32} + y_{33} + y_{34}\\\\\n",
    "e)\\ (2(1)+1)x_{2} + (2(2)+1)x_{3} + (2(3)+1)x_{4}\\\\\n",
    "f)\\ x_3(y_4 + y_5 + y_6) + x_4(y_5 + y_6 + y_7) +x_5(y_6 + y_7 + y_8)\n",
    "$"
   ]
  },
  {
   "cell_type": "markdown",
   "metadata": {},
   "source": [
    "\n",
    "# Problem 2\n",
    "$\n",
    "a)\\ 3\\\\\n",
    "b)\\ [8\\ \\ 3\\ \\ 8]\\\\\n",
    "c) \\sqrt5 \\\\\n",
    "d) 36 \\\\\n",
    "e) 3\n",
    "$\n"
   ]
  },
  {
   "cell_type": "markdown",
   "metadata": {},
   "source": [
    "\n",
    "# Problem 3\n",
    "$\n",
    "a)\\ \\{(x_1, x_2)\\ |\\ x_1^2 + x_2^2 \\geq 0\\} \\\\\n",
    "\\quad \\forall x \\in \\mathbb{R},\\ x^2 \\geq 0 \\\\\n",
    "\\quad therefore,\\ x_{1}^2 + x_{2}^2 \\geq 0 \\\\\n",
    "\\quad therefore,\\ \\{(x_1, x_2)\\ |\\ x_1^2 + x_2^2 \\geq 0\\} = \\mathbb{R^2} \\\\\n",
    "\\quad \\mathbb{R^2}\\ is\\ a\\ vector\\ space\\ under\\ vector\\ addition\\ and\\ scalar\\ multiplication\\\\   \n",
    "\\quad which\\ implies\\ \\forall x, y \\in \\mathbb{R^2}, \\alpha x + (1- \\alpha)y \\in \\mathbb{R^2}\\\\\n",
    "\\quad therefore\\ \\mathbb{R^2}\\ is\\ convex\\ by\\ definition\\\\\n",
    "\\\\\n",
    "\\\\ \n",
    "b)\\ \\{x \\ |\\ 3 - x^2 =0\\} \\\\\n",
    "\\quad \\{x \\ |\\ 3 - x^2 =0\\} = \\{\\sqrt3\\ ,\\ -\\sqrt3\\} \\\\\n",
    "\\quad .5\\sqrt3 - .5\\sqrt3 = 0\n",
    "\\quad 0\\notin \\{x \\ |\\ 3 - x^2 =0\\} \\\\\n",
    "\\quad therefore, the\\ set\\ is\\ not\\ convex \\\\\n",
    "\\\\\n",
    "c) \\{(x_1, x_2) \\ |\\ \\frac{x_1}{(x_2 + 2)} \\leq 3,\\ x_2 \\geq -1\\}\\\\\n",
    "\\quad First,\\ we'll\\ rearrange\\ some\\ constraints: \\\\\n",
    "\\quad \\{(x_1, x_2) \\ |\\ x_2\\geq \\frac{x_1}{3} - 2,\\ x_2 \\geq -1\\}\\\\\n",
    "\\quad Now,\\ you\\ can\\ see\\ that\\ this\\ is\\ the\\ interection\\ of\\ two\\ sets: \\\\\n",
    "\\quad \\{(x_1, x_2) \\ |\\ x_2 \\geq -1 \\} \\cap \\{(x_1, x_2) \\ | \\ x_2\\geq \\frac{x_1}{3} - 2 \\}\\\\\n",
    "\\quad The\\ first\\ is\\ a\\ level\\ set\\ of\\ the\\ projection\\ to\\ the\\ second\\ dimension. \\\\\n",
    "\\quad The\\ range\\ of\\ this\\ function\\ is\\ \\mathbb{R},\\ making\\ this\\ a\\ map\\ to\\ a\\ vector\\ space,\\\\\n",
    "\\quad and\\ therefore\\ a\\ convex\\ set. \\\\\n",
    "\\quad The\\ second\\ is\\ a\\ linear\\ function\\ which\\ we\\ know\\ to\\ be\\ convex. \\\\\n",
    "\\quad Therefore\\ we\\ have\\ an\\ intersection\\ of\\ two\\ convex\\ sets,\\ which\\ is\\ also\\ convex. \n",
    "$\n"
   ]
  },
  {
   "cell_type": "markdown",
   "metadata": {},
   "source": [
    "\n",
    "# Problem 4\n",
    "\n",
    "a) $ min\\ x_1^2 + x_2^2 s.t. (x_1, x_2)\\in \\mathbb{R^2}$\n",
    "\n",
    "$ \\\\ f(x) = x^2 $ is a convex function. Sums of convex functions are convex. Therefore, our function is convex. Our feasible set is $ \\mathbb{R^2} $ which is a vector space and therefore closed under scalar multiplication and vector addition. Convex combinations are a special case of the composition of scalar multiplication and vector addition, so our set is closed under convex combinations. Therefore, our objective and feasible sets are both convex and this is a convex program.\n",
    "\n",
    "b) $ max\\ 3x_1 + 2x_2\\ s.t.\\ x_1^2 + x_2^2 \\leq 10 $\n",
    "\n",
    "Our objective function is linear, therefore it is both convex and concave.\n",
    "\n",
    "Our constraint is the level set of our convex function from pt a which we know to be convex. Therefore since our objective and constraints are both convex, our program is convex.\n",
    "\n",
    "c) $min\\ \\sum_{i=1}^{n} 2^i(x_i)^{2i} \\ s.t.\\ \\sum_{i=1}^{n} \\geq 10$\n",
    "\n",
    "The objective function here is a positively weighted ($2^i$) sum of $x_i^{2i}$. \n",
    "We know powers of x greater than or equal to 1 are convex for positive exponents and x > 0. Since the exponent is even in this case, the function is convex over the entire domain.  Therefore, our objective is a convex function.\n",
    "\n",
    "The constraint is also linear, which is known to be convex. Therefore, this is a convex program. \n",
    "\n"
   ]
  },
  {
   "cell_type": "markdown",
   "metadata": {},
   "source": [
    "# Problem 5\n",
    "\n",
    "a) $min\\ \\sum_{i=1}^{n} |y_i - (bx_i+a)| $\n",
    "\n",
    "Here our y and x inputs are fixed, so we're really just optimizing over a and b. We have no constraints, so our feasible set is $\\mathbb{R}$ which is convex. We know that sums of convex functions are convex, so the internal term is what actually matters here. In terms of a and b, the inner function is a composition of absolute value and a linear operation. Since both of these are convex (and linear in the case of the internal function) this is a convex optimization program (unconstrained linear specifically). \n",
    "\n",
    "b) $min\\ max(|y_i - (bx_i+a)|) $\n",
    "\n",
    "The only change here is that the sum has been converted to a max. The maximum of convex functions is also known to be convex, so we actually haven't changed anything in terms of what type of program it is. This is still an unconstrained convex linear program.\n",
    "\n",
    "c) $min\\ max(|y_i - (cx_i^2 + bx_i+a)|) $\n",
    "\n",
    "While this looks like a big change - we added a quadratic term - it's actually still pretty minor. Our optimization is in terms of the coefficients c, b, a and y/x are constants. That means that despite adding the extra term, our program is still linear in terms of the parameters. Our objective function is taking the max of this convex internal function, so we still have a convex linear program. "
   ]
  },
  {
   "cell_type": "code",
   "execution_count": null,
   "metadata": {
    "collapsed": true
   },
   "outputs": [],
   "source": []
  }
 ],
 "metadata": {
  "kernelspec": {
   "display_name": "Python 3",
   "language": "python",
   "name": "python3"
  },
  "language_info": {
   "codemirror_mode": {
    "name": "ipython",
    "version": 3
   },
   "file_extension": ".py",
   "mimetype": "text/x-python",
   "name": "python",
   "nbconvert_exporter": "python",
   "pygments_lexer": "ipython3",
   "version": "3.6.1"
  }
 },
 "nbformat": 4,
 "nbformat_minor": 2
}
