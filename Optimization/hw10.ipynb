{
 "cells": [
  {
   "cell_type": "code",
   "execution_count": 1,
   "metadata": {
    "collapsed": true
   },
   "outputs": [],
   "source": [
    "import matplotlib.pyplot as plt\n",
    "import seaborn as sns\n",
    "import pandas as pd\n",
    "import numpy as np\n",
    "import cvxpy as cvx\n",
    "%matplotlib inline"
   ]
  },
  {
   "cell_type": "markdown",
   "metadata": {},
   "source": [
    "## 1) Write down RMP \n",
    "\n",
    "$$ \\min \\sum_{j=1}^3 x_j \\\\\n",
    "s.t.\\ x_1[40, 0, 0]^T + x_2[0, 16, 0]^T + x_3[0, 0, 12]^T = [150, 100, 80]^T\\\\\n",
    "x \\geq 0$$\n",
    "\n",
    "## 2) Solve RMP in CVX"
   ]
  },
  {
   "cell_type": "code",
   "execution_count": 2,
   "metadata": {},
   "outputs": [
    {
     "name": "stdout",
     "output_type": "stream",
     "text": [
      "Optimal: 16.6666666667 Vars: [ 3.75        6.25        6.66666667]\n",
      "B: [[40  0  0]\n",
      " [ 0 16  0]\n",
      " [ 0  0 12]] \n",
      " B^-1: [[ 0.025       0.          0.        ]\n",
      " [ 0.          0.0625      0.        ]\n",
      " [ 0.          0.          0.08333333]] \n",
      "Dual Sol: [ 0.025       0.0625      0.08333333]\n"
     ]
    }
   ],
   "source": [
    "A = np.array([[40, 0, 0],\n",
    "             [0, 16, 0],\n",
    "             [0, 0, 12]])\n",
    "b = np.array([150, 100, 80])\n",
    "x = cvx.Variable((3,), nonneg = True)\n",
    "\n",
    "cons = [A * x == b]\n",
    "\n",
    "obj = cvx.Minimize(cvx.sum(x))\n",
    "problem = cvx.Problem(obj, cons)\n",
    "problem.solve()\n",
    "\n",
    "\n",
    "print('Optimal:', problem.value, 'Vars:', x.value)\n",
    "print('B:', A, '\\n', 'B^-1:',np.linalg.inv(A), '\\n''Dual Sol:', np.ones(3).dot(np.linalg.inv(A)))\n"
   ]
  },
  {
   "cell_type": "markdown",
   "metadata": {},
   "source": [
    "## 3) Write down pricing problem\n",
    "\n",
    "$$ \\max \\hat{y}^Ta \\\\\n",
    "s.t.\\ [5, 12, 16]^Ta \\leq 200 \\\\\n",
    "a \\geq 0,\\ a \\in \\mathbb{Z}$$\n",
    "\n",
    "## 4) Solve pricing problem in CVX"
   ]
  },
  {
   "cell_type": "code",
   "execution_count": null,
   "metadata": {},
   "outputs": [],
   "source": [
    "y_hat = np.array([ 0.025,       0.0625,      0.08333333])\n",
    "a = cvx.((3,), integer = True)\n",
    "\n",
    "cons = [np.array([5, 12, 16], dtype=int) * a <= 200,\n",
    "       a >= 0]\n",
    "\n",
    "obj = cvx.Maximize(y_hat * a)\n",
    "problem = cvx.Problem(obj, cons)\n",
    "problem.solve()"
   ]
  },
  {
   "cell_type": "code",
   "execution_count": 5,
   "metadata": {},
   "outputs": [
    {
     "data": {
      "text/plain": [
       "array([ 3.4060292 ,  7.59814807,  5.73393702])"
      ]
     },
     "execution_count": 5,
     "metadata": {},
     "output_type": "execute_result"
    }
   ],
   "source": [
    "a.value"
   ]
  },
  {
   "cell_type": "code",
   "execution_count": null,
   "metadata": {
    "collapsed": true
   },
   "outputs": [],
   "source": []
  }
 ],
 "metadata": {
  "kernelspec": {
   "display_name": "Python 3",
   "language": "python",
   "name": "python3"
  },
  "language_info": {
   "codemirror_mode": {
    "name": "ipython",
    "version": 3
   },
   "file_extension": ".py",
   "mimetype": "text/x-python",
   "name": "python",
   "nbconvert_exporter": "python",
   "pygments_lexer": "ipython3",
   "version": "3.6.1"
  }
 },
 "nbformat": 4,
 "nbformat_minor": 2
}
