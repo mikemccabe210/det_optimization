{
 "cells": [
  {
   "cell_type": "code",
   "execution_count": 13,
   "metadata": {
    "collapsed": true
   },
   "outputs": [],
   "source": [
    "import cvxpy as cvx\n",
    "import numpy as np\n",
    "import matplotlib.pyplot as plt\n",
    "from matplotlib.patches import Ellipse\n",
    "%matplotlib inline"
   ]
  },
  {
   "cell_type": "markdown",
   "metadata": {},
   "source": [
    "## 1"
   ]
  },
  {
   "cell_type": "code",
   "execution_count": 2,
   "metadata": {},
   "outputs": [
    {
     "data": {
      "text/plain": [
       "'1.0.10'"
      ]
     },
     "execution_count": 2,
     "metadata": {},
     "output_type": "execute_result"
    }
   ],
   "source": [
    "cvx.__version__"
   ]
  },
  {
   "cell_type": "code",
   "execution_count": 10,
   "metadata": {},
   "outputs": [
    {
     "name": "stdout",
     "output_type": "stream",
     "text": [
      "A [[ 0.3406953  -0.03067362]\n",
      " [-0.03067362  0.53631258]]\n",
      "b [0.01511165 0.42282418]\n",
      "\n",
      "Q: [[ 0.11701416 -0.02690101]\n",
      " [-0.02690101  0.28857205]]\n",
      "c: [0.11593308 0.79502193]\n"
     ]
    }
   ],
   "source": [
    "## 1\n",
    "v = np.random.randn(10,2)\n",
    "\n",
    "A = cvx.Variable((2, 2), PSD = True)\n",
    "b = cvx.Variable((2,))\n",
    "\n",
    "# cons = []\n",
    "# for i in range(10):\n",
    "#     cons.append(cvx.norm(A*x[:, i] + b, 2) <= 1)\n",
    "    \n",
    "cons = [cvx.norm(A*v[i] + b, 2) <= 1 for i in range(10)]\n",
    "\n",
    "obj = cvx.Minimize(-cvx.log_det(A))\n",
    "problem = cvx.Problem(obj, cons)\n",
    "problem.solve(solver = cvx.CVXOPT) \n",
    "\n",
    "print('A', A.value)\n",
    "print( 'b', b.value)\n",
    "a1 = A.value\n",
    "b1 = b.value\n",
    "\n",
    "c = np.linalg.inv(a1).dot(b1)\n",
    "Q = a1.dot(a1)\n",
    "print()\n",
    "print('Q:', Q)\n",
    "print('c:', c)"
   ]
  },
  {
   "cell_type": "code",
   "execution_count": 23,
   "metadata": {},
   "outputs": [
    {
     "data": {
      "image/png": "[encoded data removed]",
      "text/plain": [
       "<matplotlib.figure.Figure at 0x2570133df28>"
      ]
     },
     "metadata": {},
     "output_type": "display_data"
    }
   ],
   "source": [
    "fig, ax = plt.subplots()\n",
    "plt.scatter(v[:, 0], v[:, 1])\n",
    "e = Ellipse(c, 5, 5, angle=80,alpha = .1)\n",
    "# ax.add_artist(e)"
   ]
  },
  {
   "cell_type": "code",
   "execution_count": null,
   "metadata": {
    "collapsed": true
   },
   "outputs": [],
   "source": []
  }
 ],
 "metadata": {
  "kernelspec": {
   "display_name": "Python 3",
   "language": "python",
   "name": "python3"
  },
  "language_info": {
   "codemirror_mode": {
    "name": "ipython",
    "version": 3
   },
   "file_extension": ".py",
   "mimetype": "text/x-python",
   "name": "python",
   "nbconvert_exporter": "python",
   "pygments_lexer": "ipython3",
   "version": "3.6.1"
  }
 },
 "nbformat": 4,
 "nbformat_minor": 2
}
