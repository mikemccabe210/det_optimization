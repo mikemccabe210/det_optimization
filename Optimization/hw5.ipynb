{
 "cells": [
  {
   "cell_type": "code",
   "execution_count": 1,
   "metadata": {
    "collapsed": true
   },
   "outputs": [],
   "source": [
    "import numpy as np\n",
    "import matplotlib.pyplot as plt\n",
    "import seaborn as sns\n",
    "import cvxpy\n",
    "%matplotlib inline"
   ]
  },
  {
   "cell_type": "markdown",
   "metadata": {},
   "source": [
    "# Problem 1\n",
    "## a)"
   ]
  },
  {
   "cell_type": "code",
   "execution_count": 2,
   "metadata": {},
   "outputs": [
    {
     "data": {
      "image/png": "[encoded data removed]",
      "text/plain": [
       "<matplotlib.figure.Figure at 0x29c462c8ac8>"
      ]
     },
     "metadata": {},
     "output_type": "display_data"
    }
   ],
   "source": [
    "f = lambda x: 3*x[0] + x[1]\n",
    "\n",
    "x = np.linspace(-1,2.5,50)\n",
    "cons1 = (2-x)/2\n",
    "cons2 = 3-2*x\n",
    "\n",
    "plt.axhline(0, color='black')\n",
    "plt.axvline(0, color='black')\n",
    "plt.plot(x, cons1, label = 'x1+2*x2>=2')\n",
    "plt.plot(x, cons2, label = '2*x1+x2>=3')\n",
    "plt.fill_between(x, np.maximum(0, np.maximum(cons1, cons2)), 50*[10],\n",
    "                 where = x>=0, alpha = .1)\n",
    "plt.xlim(xmin = -.25, xmax = 2.5)\n",
    "plt.ylim(ymin = -.25, ymax = 5)\n",
    "plt.xlabel('x1')\n",
    "plt.ylabel('x2')\n",
    "plt.title('Feasible Region')\n",
    "plt.legend()\n",
    "plt.grid()\n"
   ]
  },
  {
   "cell_type": "markdown",
   "metadata": {},
   "source": [
    "## b)\n",
    "\n",
    "x1 is significantly more expensive than x2. The corner point (0, 3) has a cost of 3. The intersection of our two constraints is at a point where x1 is greater than 1. At x1=1, the associated cost would be 3. Since x1 is greater than 1 and the marginal cost is a positive constant, we know that (0, 3) is the minimum.\n",
    "\n",
    "## c)"
   ]
  },
  {
   "cell_type": "code",
   "execution_count": 3,
   "metadata": {},
   "outputs": [
    {
     "name": "stdout",
     "output_type": "stream",
     "text": [
      "Optimal parameters: (7.861097117009218e-23, 3.0) Optimal Value: 3.0\n"
     ]
    }
   ],
   "source": [
    "x1 = cvxpy.Variable()\n",
    "x2 = cvxpy.Variable()\n",
    "cons_list = [2*x1 + x2 >= 3, x1 + 2*x2>=2, x1 >=0, x2 >= 0]\n",
    "\n",
    "problem = cvxpy.Problem(cvxpy.Minimize(3*x1 + x2), cons_list)\n",
    "problem.solve()\n",
    "print('Optimal parameters: (%s, %s) Optimal Value: %s' % (x1.value, x2.value, problem.value))"
   ]
  },
  {
   "cell_type": "markdown",
   "metadata": {},
   "source": [
    "# Problem 2\n",
    "\n",
    "## a)\n",
    "Decision vars - t  \n",
    "$min\\ \\sum_{i \\in S,\\ j \\in D} c_{ij}t_{ij}$  \n",
    "$s.t.\\ \\quad \\sum_{i \\in S}t_{ij}\\geq d_j $  \n",
    "$\\quad \\quad \\ \\ \\sum_{j \\in D}t_{ij}\\leq s_i$  \n",
    "$ \\quad \\quad \\ \\ \\ t\\geq 0 $\n",
    "\n"
   ]
  },
  {
   "cell_type": "markdown",
   "metadata": {},
   "source": [
    "## b)"
   ]
  },
  {
   "cell_type": "code",
   "execution_count": 4,
   "metadata": {},
   "outputs": [
    {
     "name": "stdout",
     "output_type": "stream",
     "text": [
      "Optimal transport plan: ([  1.99975941e+00   8.00024059e+00   7.00000000e+00   1.00000000e+00\n",
      "   6.00024059e+00   1.19997594e+01  -1.66535672e-22   1.11023193e-22\n",
      "   1.50000000e+01]) Optimal Value: 154.0\n"
     ]
    }
   ],
   "source": [
    "t = cvxpy.Variable((9,))\n",
    "# (11, 12, 21, 23, 31, 32, 33, 41, 43)\n",
    "c = np.array([2, 3, 4, 5, 2, 3, 4, 5, 3])\n",
    "s = np.array([10, 25, 18, 15])\n",
    "d = np.array([15, 20, 16])\n",
    "\n",
    "cons = [t[0] + t[1] <= s[0],\n",
    "       t[2] + t[3] <= s[1],\n",
    "        t[4] + t[5] + t[6] <= s[2],\n",
    "        t[7] + t[8] <= s[3],\n",
    "        t[0] + t[2] + t[4] + t[7] >= d[0],\n",
    "        t[1] + t[5] >= d[1],\n",
    "        t[3] + t[6] + t[8] >= d[2],\n",
    "        t>=0\n",
    "       ]\n",
    "\n",
    "problem = cvxpy.Problem(cvxpy.Minimize(cvxpy.sum(cvxpy.multiply(c, t))), cons)\n",
    "problem.solve()\n",
    "\n",
    "print('Optimal transport plan: (%s) Optimal Value: %s' % (t.value, problem.value))\n"
   ]
  },
  {
   "cell_type": "markdown",
   "metadata": {},
   "source": [
    "## c)"
   ]
  },
  {
   "cell_type": "code",
   "execution_count": 5,
   "metadata": {},
   "outputs": [
    {
     "name": "stdout",
     "output_type": "stream",
     "text": [
      "Optimal transport plan: ([  2.00012813e+00   7.99987187e+00   7.00000000e+00   1.00000000e+00\n",
      "   5.99987187e+00   1.20001281e+01  -8.32658366e-23   1.66532567e-22\n",
      "   1.50000000e+01]) Optimal Value: 154.0\n"
     ]
    }
   ],
   "source": [
    "t = cvxpy.Variable((9,))\n",
    "# (11, 12, 21, 23, 31, 32, 33, 41, 43)\n",
    "c = np.array([2, 3, 4, 5, 2, 3, 4, 5, 3])\n",
    "s = np.array([10, 25, 18, 15])\n",
    "d = np.array([15, 20, 16])\n",
    "\n",
    "cons = [t[0] + t[1] <= s[0],\n",
    "       t[2] + t[3] <= s[1],\n",
    "        t[4] + t[5] + t[6] <= s[2],\n",
    "        t[7] + t[8] <= s[3],\n",
    "        t[0] + t[2] + t[4] + t[7] == d[0],\n",
    "        t[1] + t[5] == d[1],\n",
    "        t[3] + t[6] + t[8] == d[2],\n",
    "        t>=0\n",
    "       ]\n",
    "\n",
    "problem = cvxpy.Problem(cvxpy.Minimize(cvxpy.sum(cvxpy.multiply(c, t))), cons)\n",
    "problem.solve()\n",
    "\n",
    "print('Optimal transport plan: (%s) Optimal Value: %s' % (t.value, problem.value))\n"
   ]
  },
  {
   "cell_type": "markdown",
   "metadata": {},
   "source": [
    "It returns the same solution. Since this is a minimization problem and all transport has a positive cost, the solver naturally chose a solution that minimizes the amount transported which is the point where demand is exactly supplied, so the problems were equivalent. "
   ]
  },
  {
   "cell_type": "markdown",
   "metadata": {},
   "source": [
    "# Problem 3\n",
    "## a)  \n",
    "\n",
    "Decision vars - $\\theta$, f, p\n",
    "\n",
    "$min\\ c^T p $  \n",
    "$s.t.\\ \\quad \\forall\\ i \\in G\\ 10<=p_{i}\\leq p^{max}_i $  \n",
    "$\\quad \\quad \\ \\ \\forall\\ (i, j) \\in E\\ -f_{ij}^{max} \\leq f_{ij} \\leq f_{ij}^{max} $  \n",
    "$\\quad \\quad \\ \\ \\forall\\ (i, j) \\in E\\ \\ B_{ij}(\\theta_i - \\theta_j) = f_{ij} $  \n",
    "$\\quad \\quad \\ \\ \\sum_{j \\in D}t_{ij}\\leq s_i$  \n",
    "$ \\quad \\quad \\ \\ \\forall\\ i \\in G\\ \\sum_{j \\in O(i)}f_{ij} - \\sum_{j \\in I(i)}f_{ji} = p_i $  \n",
    "$ \\quad \\quad \\ \\ \\forall\\ i \\in D\\ \\sum_{j \\in O(i)}f_{ij} - \\sum_{j \\in I(i)}f_{ji} = -d_i $  \n",
    "  \n",
    "## b)\n",
    "\n",
    "\n"
   ]
  },
  {
   "cell_type": "code",
   "execution_count": 6,
   "metadata": {},
   "outputs": [
    {
     "name": "stdout",
     "output_type": "stream",
     "text": [
      "Production:  [  78.52182633  110.          126.47817367]\n",
      "Potentials (ordered):  [-2.36685386 -4.95306075  5.21643077  1.56679573  6.66883655 -6.98798018]\n",
      "Flows (ordered):  [ 30.         -60.          50.         -50.          76.47817367\n",
      " -48.52182633]\n",
      "Optimal Value:  992.043652667\n"
     ]
    }
   ],
   "source": [
    "p = [1, 3, 5]\n",
    "pmin = np.array([10, 10, 10])\n",
    "pmax =  np.array([250, 300, 270])\n",
    "pactual = cvxpy.Variable((3,))\n",
    "# d = [2, 4, 6]\n",
    "d =  np.array([90, 100, 125])\n",
    "c =  np.array([5, 2, 3])\n",
    "# (12, 23, 34, 45, 56, 61)\n",
    "flow = cvxpy.Variable((6,))\n",
    "fmax =  np.array([50, 60, 90, 50, 120, 100])\n",
    "theta = cvxpy.Variable((6,))\n",
    "b = np.array( [11.6, 5.9, 13.7, 9.8, 5.6, 10.5])\n",
    "\n",
    "cons = [pactual <=pmax,\n",
    "       pactual >= pmin,\n",
    "       flow <= fmax,\n",
    "        flow >= -fmax,\n",
    "        # node potentials\n",
    "        b[0]*(theta[0]-theta[1]) == flow[0],\n",
    "        b[1]*(theta[1]-theta[2]) == flow[1],\n",
    "        b[2]*(theta[2]-theta[3]) == flow[2],\n",
    "        b[3]*(theta[3]-theta[4]) == flow[3],\n",
    "        b[4]*(theta[4]-theta[5]) == flow[4],\n",
    "        b[5]*(theta[5]-theta[0]) == flow[5],\n",
    "        # Conservation of flow\n",
    "        flow[0] - flow[5] == pactual[0],\n",
    "        -flow[1] + flow[2] == pactual[1],\n",
    "        -flow[3] + flow[4] == pactual[2],\n",
    "        -flow[0] + flow[1] == -d[0],\n",
    "        -flow[2] + flow[3] == -d[1],\n",
    "        -flow[4] + flow[5] == -d[2]       ]\n",
    "# (12, 23, 34, 45, 56, 61)\n",
    "obj = cvxpy.Minimize(cvxpy.sum(cvxpy.multiply(pactual, c)))\n",
    "problem = cvxpy.Problem(obj, cons)\n",
    "problem.solve()\n",
    "\n",
    "print('Production: ', pactual.value)\n",
    "print('Potentials (ordered): ', theta.value)\n",
    "print('Flows (ordered): ', flow.value)\n",
    "print('Optimal Value: ', problem.value)"
   ]
  },
  {
   "cell_type": "markdown",
   "metadata": {},
   "source": [
    "## c)"
   ]
  },
  {
   "cell_type": "code",
   "execution_count": 7,
   "metadata": {},
   "outputs": [
    {
     "name": "stdout",
     "output_type": "stream",
     "text": [
      "Node 6:  0.0\n",
      "Node 4:  0.0\n",
      "Node 2:  0.27850568980369417\n"
     ]
    }
   ],
   "source": [
    "print('Node 6: ', problem.constraints[-1].dual_value)\n",
    "print('Node 4: ', problem.constraints[-2].dual_value)\n",
    "print('Node 2: ', problem.constraints[-3].dual_value)"
   ]
  }
 ],
 "metadata": {
  "kernelspec": {
   "display_name": "Python 3",
   "language": "python",
   "name": "python3"
  },
  "language_info": {
   "codemirror_mode": {
    "name": "ipython",
    "version": 3
   },
   "file_extension": ".py",
   "mimetype": "text/x-python",
   "name": "python",
   "nbconvert_exporter": "python",
   "pygments_lexer": "ipython3",
   "version": "3.6.1"
  }
 },
 "nbformat": 4,
 "nbformat_minor": 2
}
