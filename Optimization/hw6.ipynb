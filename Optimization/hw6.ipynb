{
 "cells": [
  {
   "cell_type": "code",
   "execution_count": 1,
   "metadata": {
    "collapsed": true
   },
   "outputs": [],
   "source": [
    "import cvxpy as cvx\n",
    "import numpy as np\n",
    "import matplotlib.pyplot as plt\n",
    "%matplotlib inline"
   ]
  },
  {
   "cell_type": "markdown",
   "metadata": {},
   "source": [
    "# Problem 1"
   ]
  },
  {
   "cell_type": "code",
   "execution_count": 2,
   "metadata": {},
   "outputs": [
    {
     "name": "stdout",
     "output_type": "stream",
     "text": [
      "Solution Expected Profit:  -115.0\n",
      "Solution Production:  30.0\n",
      "Solution Retail Plan:  [ 10.  20.  30.  30.  30.]\n",
      "Solution Salvage Plan:  [  2.00000000e+01   1.00000000e+01  -2.37310172e-21   4.99600364e-22\n",
      "   4.71844788e-22]\n"
     ]
    }
   ],
   "source": [
    "d = np.array([10, 20, 30, 40, 50])\n",
    "p_d = np.array([.1, .15, .3, .25, .2])\n",
    "cost = 10\n",
    "retail = 15\n",
    "discount = 5\n",
    "prd = cvx.Variable()\n",
    "y = cvx.Variable((5,))\n",
    "s = cvx.Variable((5,))\n",
    "\n",
    "cons = [prd >=0, prd <= 75, y + s <= prd, y >=0, s>=0, y <= d]\n",
    "obj = cvx.Minimize(cvx.sum(cvx.multiply(p_d, \n",
    "                                         prd * cost - (y*retail + s*(discount)))))\n",
    "\n",
    "problem = cvx.Problem(obj, cons)\n",
    "\n",
    "problem.solve()\n",
    "\n",
    "print('Solution Expected Profit: ', problem.value)\n",
    "print('Solution Production: ', prd.value)\n",
    "print('Solution Retail Plan: ', y.value)\n",
    "print('Solution Salvage Plan: ', s.value)"
   ]
  },
  {
   "cell_type": "markdown",
   "metadata": {},
   "source": [
    "# Problem 2"
   ]
  },
  {
   "cell_type": "markdown",
   "metadata": {},
   "source": [
    "x"
   ]
  },
  {
   "cell_type": "markdown",
   "metadata": {},
   "source": [
    "## a)\n",
    "\n",
    "Yes. The interior function is linear as is the absolute value function. Compositions of convex functions are convex if the interior function is linear, so the absolute value and interior function together are convex. Finally, non-negative sums of convex functions are convex, so summing over our data rows is also convex.  \n",
    "\n",
    "## b)\n",
    "\n",
    "$min \\sum_{i=1}^N z_i$  \n",
    "$s.t.\\ y_i - b_0 - \\sum_{j=1}^M b_j x_{ij} \\leq z_i\\ \\ \\forall i<=N \\\\\n",
    "\\quad \\ \\ y_i - b_0 - \\sum_{j=1}^M b_j x_{ij} \\geq -z_i\\ \\ \\forall i<=N$\n",
    "\n",
    "## c)  \n",
    "\n",
    "I preprocessed x and y due to the weird format. The code reads the processed data files. "
   ]
  },
  {
   "cell_type": "code",
   "execution_count": 3,
   "metadata": {},
   "outputs": [
    {
     "name": "stdout",
     "output_type": "stream",
     "text": [
      "Min Value:  26.5180350068\n",
      "Optimal Coefficients: [ 0.40418996  0.18413888 -0.19966582]\n"
     ]
    }
   ],
   "source": [
    "x = np.load('clean_x.npy')\n",
    "# Just prepending the bias as an extra column to make the computation cleaner\n",
    "X = np.hstack([np.ones((x.shape[0], 1)), x])\n",
    "y = np.load('clean_y.npy')\n",
    "\n",
    "b = cvx.Variable(3)\n",
    "z = cvx.Variable(x.shape[0])\n",
    "\n",
    "cons = [X*b - y <= z,\n",
    "       X*b - y >= -z]\n",
    "obj = cvx.Minimize(cvx.sum(z))\n",
    "prob = cvx.Problem(obj, cons)\n",
    "prob.solve()\n",
    "\n",
    "print('Min Value: ', prob.value)\n",
    "print('Optimal Coefficients:', b.value)"
   ]
  },
  {
   "cell_type": "markdown",
   "metadata": {},
   "source": [
    "## d)"
   ]
  },
  {
   "cell_type": "code",
   "execution_count": 4,
   "metadata": {},
   "outputs": [
    {
     "data": {
      "text/plain": [
       "<matplotlib.text.Text at 0x22e8b3552e8>"
      ]
     },
     "execution_count": 4,
     "metadata": {},
     "output_type": "execute_result"
    },
    {
     "data": {
      "image/png": "[encoded data removed]",
      "text/plain": [
       "<matplotlib.figure.Figure at 0x22e8b26b400>"
      ]
     },
     "metadata": {},
     "output_type": "display_data"
    }
   ],
   "source": [
    "plt.scatter(X[:, 1][y==0], X[:, 2][y==0], color = 'red', label = '0')\n",
    "plt.scatter(X[:, 1][y==1], X[:, 1][y==0], label = '1')\n",
    "\n",
    "# Ignoring the intercept here since 3D graphs rarely look good\n",
    "w = b.value\n",
    "a = -w[1] / w[2]\n",
    "xx = np.linspace(-5, 5)\n",
    "yy = a * xx\n",
    "plt.plot(xx, yy, 'k-')\n",
    "plt.xlim(xmin = -2.5, xmax = 4.5)\n",
    "plt.ylim(ymin = -3, ymax = 5.5)\n",
    "plt.legend()\n",
    "plt.title('2d Decision Boundary')"
   ]
  }
 ],
 "metadata": {
  "kernelspec": {
   "display_name": "Python 3",
   "language": "python",
   "name": "python3"
  },
  "language_info": {
   "codemirror_mode": {
    "name": "ipython",
    "version": 3
   },
   "file_extension": ".py",
   "mimetype": "text/x-python",
   "name": "python",
   "nbconvert_exporter": "python",
   "pygments_lexer": "ipython3",
   "version": "3.6.1"
  }
 },
 "nbformat": 4,
 "nbformat_minor": 2
}
